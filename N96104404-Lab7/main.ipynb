{
 "cells": [
  {
   "cell_type": "code",
   "execution_count": 1,
   "id": "cd4a1845-d762-423d-9cf4-dfe9874e3ca4",
   "metadata": {},
   "outputs": [
    {
     "name": "stdout",
     "output_type": "stream",
     "text": [
      "pygame 2.0.1 (SDL 2.0.14, Python 3.8.10)\n",
      "Hello from the pygame community. https://www.pygame.org/contribute.html\n"
     ]
    }
   ],
   "source": [
    "import pygame\n",
    "from start_menu import StartMenu\n",
    "\n",
    "\n",
    "if __name__ == '__main__':\n",
    "    pygame.init()\n",
    "    m = StartMenu()\n",
    "    m.menu_run()"
   ]
  },
  {
   "cell_type": "code",
   "execution_count": null,
   "id": "5afe5e46-494f-4ef3-8201-51ad70df3560",
   "metadata": {},
   "outputs": [],
   "source": []
  }
 ],
 "metadata": {
  "kernelspec": {
   "display_name": "Python 3",
   "language": "python",
   "name": "python3"
  },
  "language_info": {
   "codemirror_mode": {
    "name": "ipython",
    "version": 3
   },
   "file_extension": ".py",
   "mimetype": "text/x-python",
   "name": "python",
   "nbconvert_exporter": "python",
   "pygments_lexer": "ipython3",
   "version": "3.8.10"
  }
 },
 "nbformat": 4,
 "nbformat_minor": 5
}
